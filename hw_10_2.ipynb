{
  "cells": [
    {
      "cell_type": "code",
      "execution_count": 15,
      "metadata": {
        "id": "79XSFmJhfp_q"
      },
      "outputs": [],
      "source": [
        "import tensorflow as tf\n",
        "import numpy as np\n",
        "import matplotlib.pyplot as plt\n",
        "\n",
        "from keras.datasets import fashion_mnist\n",
        "from keras.preprocessing.image import ImageDataGenerator\n",
        "from keras.applications.vgg16 import VGG16"
      ]
    },
    {
      "cell_type": "code",
      "source": [
        "conv_base = VGG16(weights=\"imagenet\", include_top=False, input_shape=(150, 150, 3))"
      ],
      "metadata": {
        "id": "V91kf7zILk2q"
      },
      "execution_count": 31,
      "outputs": []
    },
    {
      "cell_type": "code",
      "execution_count": 17,
      "metadata": {
        "id": "wfnW4cLkfsO3"
      },
      "outputs": [],
      "source": [
        "(train_images, train_labels), (test_images, test_labels) = fashion_mnist.load_data()"
      ]
    },
    {
      "cell_type": "code",
      "execution_count": 18,
      "metadata": {
        "id": "t6LM2tq8fwDm"
      },
      "outputs": [],
      "source": [
        "train_labels = tf.keras.utils.to_categorical(train_labels)\n",
        "test_labels = tf.keras.utils.to_categorical(test_labels)"
      ]
    },
    {
      "cell_type": "code",
      "execution_count": 19,
      "metadata": {
        "id": "XHXoTCUJf0ZQ"
      },
      "outputs": [],
      "source": [
        "train_images =np.reshape(train_images, (-1,28,28,1))\n",
        "test_images =np.reshape(test_images, (-1,28,28,1))"
      ]
    },
    {
      "cell_type": "code",
      "source": [
        "train_images = tf.keras.layers.Concatenate()([train_images,train_images,train_images])\n",
        "test_images = tf.keras.layers.Concatenate()([test_images,test_images,test_images])\n",
        "\n",
        "train_images.shape"
      ],
      "metadata": {
        "colab": {
          "base_uri": "https://localhost:8080/"
        },
        "id": "QhPbweuFRbEm",
        "outputId": "982aa019-839b-4cc4-e9e3-035503118040"
      },
      "execution_count": 20,
      "outputs": [
        {
          "output_type": "execute_result",
          "data": {
            "text/plain": [
              "TensorShape([60000, 28, 28, 3])"
            ]
          },
          "metadata": {},
          "execution_count": 20
        }
      ]
    },
    {
      "cell_type": "code",
      "source": [
        "resized_train_images = tf.image.resize(train_images, (32,32))\n",
        "resized_test_images = tf.image.resize(test_images, (32,32))\n",
        "\n",
        "resized_train_images.shape, train_images.shape"
      ],
      "metadata": {
        "colab": {
          "base_uri": "https://localhost:8080/"
        },
        "id": "q_WHz4-yNkNk",
        "outputId": "399399e5-5776-4adf-bf16-bbc2fb9c3821"
      },
      "execution_count": 21,
      "outputs": [
        {
          "output_type": "execute_result",
          "data": {
            "text/plain": [
              "(TensorShape([60000, 32, 32, 3]), TensorShape([60000, 28, 28, 3]))"
            ]
          },
          "metadata": {},
          "execution_count": 21
        }
      ]
    },
    {
      "cell_type": "code",
      "source": [
        "from keras.preprocessing.image import img_to_array\n",
        "train_images_mtrx = np.asarray([img_to_array(im) for im in resized_train_images])\n",
        "test_images_mtrx = np.asarray([img_to_array(im) for im in resized_test_images])"
      ],
      "metadata": {
        "id": "lPgbCHzPGj1y"
      },
      "execution_count": 22,
      "outputs": []
    },
    {
      "cell_type": "code",
      "source": [
        "from sklearn.model_selection import train_test_split\n",
        "train_images, train_images_val, train_labels, train_labels_val = train_test_split(train_images_mtrx, train_labels, test_size=0.2, random_state=13)"
      ],
      "metadata": {
        "id": "zCP8zAGcKYOy"
      },
      "execution_count": 23,
      "outputs": []
    },
    {
      "cell_type": "code",
      "source": [
        "train_generator = ImageDataGenerator(\n",
        "    rescale=1./255,\n",
        "    rotation_range=20,\n",
        "    width_shift_range=0.2,\n",
        "    height_shift_range=0.2,\n",
        "    shear_range=0.2,\n",
        "    zoom_range=0.2,\n",
        "    horizontal_flip=True,\n",
        "    fill_mode=\"nearest\"\n",
        ")\n",
        "\n",
        "test_generator = ImageDataGenerator(rescale=1./255)"
      ],
      "metadata": {
        "id": "ng2JmtXdLGmX"
      },
      "execution_count": 24,
      "outputs": []
    },
    {
      "cell_type": "code",
      "source": [
        "train_generator.fit(train_images)\n",
        "test_generator.fit(train_images_val)"
      ],
      "metadata": {
        "id": "n93q4rp9MIfi"
      },
      "execution_count": 25,
      "outputs": []
    },
    {
      "cell_type": "code",
      "source": [
        "train_generator = train_generator.flow(train_images, train_labels, batch_size=200)\n",
        "test_generator = test_generator.flow(train_images_val, train_labels_val, batch_size=200)"
      ],
      "metadata": {
        "id": "QAdlxMkVMYPY"
      },
      "execution_count": 26,
      "outputs": []
    },
    {
      "cell_type": "code",
      "source": [
        "test_images.shape"
      ],
      "metadata": {
        "colab": {
          "base_uri": "https://localhost:8080/"
        },
        "id": "TMwQOQD6M5f_",
        "outputId": "edd2b4f4-6024-4c5e-ca84-717003128755"
      },
      "execution_count": 27,
      "outputs": [
        {
          "output_type": "execute_result",
          "data": {
            "text/plain": [
              "TensorShape([10000, 28, 28, 3])"
            ]
          },
          "metadata": {},
          "execution_count": 27
        }
      ]
    },
    {
      "cell_type": "code",
      "source": [
        "conv_base = VGG16(\n",
        "    weights='imagenet',\n",
        "    include_top=False,\n",
        "    input_shape=(150, 150, 3)\n",
        ")"
      ],
      "metadata": {
        "id": "pOGGvyLjNB72"
      },
      "execution_count": 32,
      "outputs": []
    },
    {
      "cell_type": "code",
      "source": [
        "conv_base.trainable = False\n",
        "#conv_base.trainable = True\n",
        "\n",
        "set_trainable = False\n",
        "for layer in conv_base.layers:\n",
        "  if layer.name == 'block3_conv1':\n",
        "    set_trainable = True\n",
        "  if set_trainable:\n",
        "    layer.trainable = True\n",
        "  else:\n",
        "    layer.trainable = False"
      ],
      "metadata": {
        "id": "7pkAniB7OWr4"
      },
      "execution_count": 33,
      "outputs": []
    },
    {
      "cell_type": "code",
      "execution_count": 34,
      "metadata": {
        "id": "-6NeAcA2f4qT"
      },
      "outputs": [],
      "source": [
        "# Створення CNN моделі\n",
        "\n",
        "original_dim = (32, 32, 3)\n",
        "target_size = (150, 150)\n",
        "\n",
        "model = tf.keras.models.Sequential()\n",
        "model.add(tf.keras.layers.Input(original_dim))\n",
        "model.add(tf.keras.layers.Lambda(lambda image: tf.image.resize(image, target_size)))\n",
        "model.add(conv_base)\n",
        "model.add(tf.keras.layers.Flatten())\n",
        "model.add(tf.keras.layers.Dropout(0.3))\n",
        "model.add(tf.keras.layers.Dense(256, activation='relu', kernel_initializer='he_uniform'))\n",
        "model.add(tf.keras.layers.Dense(128, activation='relu'))\n",
        "model.add(tf.keras.layers.Dense(10, activation='softmax'))"
      ]
    },
    {
      "cell_type": "code",
      "execution_count": 35,
      "metadata": {
        "colab": {
          "base_uri": "https://localhost:8080/"
        },
        "id": "ZivdU9OLf7UT",
        "outputId": "8a61cce0-32d2-46fd-be9b-0ed31e79bd95"
      },
      "outputs": [
        {
          "output_type": "stream",
          "name": "stdout",
          "text": [
            "Model: \"sequential\"\n",
            "_________________________________________________________________\n",
            " Layer (type)                Output Shape              Param #   \n",
            "=================================================================\n",
            " lambda (Lambda)             (None, 150, 150, 3)       0         \n",
            "                                                                 \n",
            " vgg16 (Functional)          (None, 4, 4, 512)         14714688  \n",
            "                                                                 \n",
            " flatten (Flatten)           (None, 8192)              0         \n",
            "                                                                 \n",
            " dropout (Dropout)           (None, 8192)              0         \n",
            "                                                                 \n",
            " dense (Dense)               (None, 256)               2097408   \n",
            "                                                                 \n",
            " dense_1 (Dense)             (None, 128)               32896     \n",
            "                                                                 \n",
            " dense_2 (Dense)             (None, 10)                1290      \n",
            "                                                                 \n",
            "=================================================================\n",
            "Total params: 16846282 (64.26 MB)\n",
            "Trainable params: 2131594 (8.13 MB)\n",
            "Non-trainable params: 14714688 (56.13 MB)\n",
            "_________________________________________________________________\n"
          ]
        }
      ],
      "source": [
        "# Виведення інформації про модель\n",
        "model.summary()"
      ]
    },
    {
      "cell_type": "code",
      "execution_count": 40,
      "metadata": {
        "id": "CPKQdml4zO8P"
      },
      "outputs": [],
      "source": [
        "from keras.callbacks import ModelCheckpoint\n",
        "checkpointer = ModelCheckpoint(filepath='best_weights.hdf5', verbose=1, save_best_only=True)\n",
        "\n",
        "# Компіляція моделі\n",
        "model.compile(\n",
        "    loss='categorical_crossentropy',\n",
        "    optimizer=tf.keras.optimizers.RMSprop(1e-4),\n",
        "    metrics=[\"accuracy\"]\n",
        ")"
      ]
    },
    {
      "cell_type": "code",
      "execution_count": 41,
      "metadata": {
        "colab": {
          "base_uri": "https://localhost:8080/"
        },
        "id": "d9zA4N_Of-yT",
        "outputId": "a164f880-2f1f-472d-ca0e-5f64b095101a"
      },
      "outputs": [
        {
          "output_type": "stream",
          "name": "stdout",
          "text": [
            "Epoch 1/10\n",
            "100/100 [==============================] - ETA: 0s - loss: 0.6203 - accuracy: 0.7724\n",
            "Epoch 1: val_loss improved from inf to 0.46175, saving model to best_weights.hdf5\n",
            "100/100 [==============================] - 70s 690ms/step - loss: 0.6203 - accuracy: 0.7724 - val_loss: 0.4618 - val_accuracy: 0.8304\n",
            "Epoch 2/10\n",
            "100/100 [==============================] - ETA: 0s - loss: 0.6052 - accuracy: 0.7793\n",
            "Epoch 2: val_loss did not improve from 0.46175\n",
            "100/100 [==============================] - 68s 683ms/step - loss: 0.6052 - accuracy: 0.7793 - val_loss: 0.4901 - val_accuracy: 0.8303\n",
            "Epoch 3/10\n",
            "100/100 [==============================] - ETA: 0s - loss: 0.6046 - accuracy: 0.7763\n",
            "Epoch 3: val_loss did not improve from 0.46175\n",
            "100/100 [==============================] - 67s 674ms/step - loss: 0.6046 - accuracy: 0.7763 - val_loss: 0.5105 - val_accuracy: 0.8163\n",
            "Epoch 4/10\n",
            "100/100 [==============================] - ETA: 0s - loss: 0.5944 - accuracy: 0.7804\n",
            "Epoch 4: val_loss improved from 0.46175 to 0.44759, saving model to best_weights.hdf5\n",
            "100/100 [==============================] - 68s 684ms/step - loss: 0.5944 - accuracy: 0.7804 - val_loss: 0.4476 - val_accuracy: 0.8360\n",
            "Epoch 5/10\n",
            "100/100 [==============================] - ETA: 0s - loss: 0.5977 - accuracy: 0.7800\n",
            "Epoch 5: val_loss did not improve from 0.44759\n",
            "100/100 [==============================] - 67s 674ms/step - loss: 0.5977 - accuracy: 0.7800 - val_loss: 0.5098 - val_accuracy: 0.8146\n",
            "Epoch 6/10\n",
            "100/100 [==============================] - ETA: 0s - loss: 0.5914 - accuracy: 0.7817\n",
            "Epoch 6: val_loss did not improve from 0.44759\n",
            "100/100 [==============================] - 83s 833ms/step - loss: 0.5914 - accuracy: 0.7817 - val_loss: 0.4654 - val_accuracy: 0.8324\n",
            "Epoch 7/10\n",
            "100/100 [==============================] - ETA: 0s - loss: 0.5897 - accuracy: 0.7806\n",
            "Epoch 7: val_loss did not improve from 0.44759\n",
            "100/100 [==============================] - 68s 684ms/step - loss: 0.5897 - accuracy: 0.7806 - val_loss: 0.4479 - val_accuracy: 0.8421\n",
            "Epoch 8/10\n",
            "100/100 [==============================] - ETA: 0s - loss: 0.5772 - accuracy: 0.7899\n",
            "Epoch 8: val_loss did not improve from 0.44759\n",
            "100/100 [==============================] - 67s 675ms/step - loss: 0.5772 - accuracy: 0.7899 - val_loss: 0.4732 - val_accuracy: 0.8253\n",
            "Epoch 9/10\n",
            "100/100 [==============================] - ETA: 0s - loss: 0.5742 - accuracy: 0.7898\n",
            "Epoch 9: val_loss improved from 0.44759 to 0.44652, saving model to best_weights.hdf5\n",
            "100/100 [==============================] - 68s 682ms/step - loss: 0.5742 - accuracy: 0.7898 - val_loss: 0.4465 - val_accuracy: 0.8400\n",
            "Epoch 10/10\n",
            "100/100 [==============================] - ETA: 0s - loss: 0.5752 - accuracy: 0.7884\n",
            "Epoch 10: val_loss did not improve from 0.44652\n",
            "100/100 [==============================] - 83s 833ms/step - loss: 0.5752 - accuracy: 0.7884 - val_loss: 0.4640 - val_accuracy: 0.8380\n"
          ]
        }
      ],
      "source": [
        "# Тренування моделі\n",
        "history = model.fit(\n",
        "    train_generator,\n",
        "    epochs=10,\n",
        "    steps_per_epoch=100,\n",
        "    validation_data=test_generator,\n",
        "    validation_steps=60,\n",
        "    shuffle=True,\n",
        "    callbacks=[checkpointer]\n",
        "    )"
      ]
    },
    {
      "cell_type": "code",
      "execution_count": 47,
      "metadata": {
        "colab": {
          "base_uri": "https://localhost:8080/",
          "height": 447
        },
        "id": "I9X4xS-xXrSi",
        "outputId": "ea716bb5-c147-4ae9-a840-9d5bb16d7d3b"
      },
      "outputs": [
        {
          "output_type": "execute_result",
          "data": {
            "text/plain": [
              "<matplotlib.legend.Legend at 0x78a4b6c81600>"
            ]
          },
          "metadata": {},
          "execution_count": 47
        },
        {
          "output_type": "display_data",
          "data": {
            "text/plain": [
              "<Figure size 640x480 with 1 Axes>"
            ],
            "image/png": "[encoded data removed]"
          },
          "metadata": {}
        }
      ],
      "source": [
        "# Виведення графіків точності та втрат від кількості епох\n",
        "plt.plot(history.history['accuracy'], label='Training Accuracy')\n",
        "plt.plot(history.history['val_accuracy'], label='Validation Accuracy')\n",
        "\n",
        "plt.legend()"
      ]
    },
    {
      "cell_type": "code",
      "source": [
        "plt.plot(history.history['loss'], label='Training Loss')\n",
        "plt.plot(history.history['val_loss'], label='Validation Loss')\n",
        "\n",
        "plt.legend()"
      ],
      "metadata": {
        "colab": {
          "base_uri": "https://localhost:8080/",
          "height": 447
        },
        "id": "Y5t5xTn9ifbU",
        "outputId": "ca940ee8-4e33-45b5-ecd5-ca7040e6fd5c"
      },
      "execution_count": 48,
      "outputs": [
        {
          "output_type": "execute_result",
          "data": {
            "text/plain": [
              "<matplotlib.legend.Legend at 0x78a4b6d1c7f0>"
            ]
          },
          "metadata": {},
          "execution_count": 48
        },
        {
          "output_type": "display_data",
          "data": {
            "text/plain": [
              "<Figure size 640x480 with 1 Axes>"
            ],
            "image/png": "[encoded data removed]"
          },
          "metadata": {}
        }
      ]
    }
  ],
  "metadata": {
    "colab": {
      "provenance": [],
      "toc_visible": true,
      "gpuType": "T4"
    },
    "kernelspec": {
      "display_name": "Python 3",
      "name": "python3"
    },
    "language_info": {
      "name": "python"
    },
    "accelerator": "GPU"
  },
  "nbformat": 4,
  "nbformat_minor": 0
}